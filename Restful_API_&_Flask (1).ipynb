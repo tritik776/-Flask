{
  "nbformat": 4,
  "nbformat_minor": 0,
  "metadata": {
    "colab": {
      "provenance": []
    },
    "kernelspec": {
      "name": "python3",
      "display_name": "Python 3"
    },
    "language_info": {
      "name": "python"
    }
  },
  "cells": [
    {
      "cell_type": "markdown",
      "source": [
        "# Theory Questions"
      ],
      "metadata": {
        "id": "DRzmtH-0pjFZ"
      }
    },
    {
      "cell_type": "markdown",
      "source": [
        "1. What is a RESTful API?\n",
        "- A RESTful API follows the REST (Representational State Transfer) architectural style, using standard HTTP methods to perform operations on resources, which are represented in formats like JSON or XML.\n",
        "\n",
        "2. Explain the concept of API specification\n",
        "- API specification defines how the API behaves — including its endpoints, methods, request/response formats, authentication, and error handling. Examples include OpenAPI and Swagger.\n",
        "\n",
        "3. What is Flask, and why is it popular for building APIs?\n",
        "- Flask is a lightweight Python web framework. It’s popular because it’s simple, flexible, and easy to use for building small to large-scale APIs.\n",
        "\n",
        "4. What is routing in Flask?\n",
        "- Routing is the mechanism to associate URLs with functions. It determines what function to call when a specific URL is requested."
      ],
      "metadata": {
        "id": "wJCegnT3mTKK"
      }
    },
    {
      "cell_type": "markdown",
      "source": [
        "5. How do you create a simple Flask application?"
      ],
      "metadata": {
        "id": "X9VieNVAmeQB"
      }
    },
    {
      "cell_type": "code",
      "source": [
        "from flask import Flask\n",
        "app = Flask(__name__)\n",
        "\n",
        "@app.route('/')\n",
        "def home():\n",
        "    return \"Hello, Flask!\"\n",
        "\n",
        "if __name__ == '__main__':\n",
        "    app.run(debug=True)"
      ],
      "metadata": {
        "colab": {
          "base_uri": "https://localhost:8080/",
          "height": 0
        },
        "id": "MIqA-ZfQmioa",
        "outputId": "036e6369-68d6-4bb6-e74c-e18b371062f8"
      },
      "execution_count": 1,
      "outputs": [
        {
          "output_type": "stream",
          "name": "stdout",
          "text": [
            " * Serving Flask app '__main__'\n",
            " * Debug mode: on\n"
          ]
        },
        {
          "output_type": "stream",
          "name": "stderr",
          "text": [
            "INFO:werkzeug:\u001b[31m\u001b[1mWARNING: This is a development server. Do not use it in a production deployment. Use a production WSGI server instead.\u001b[0m\n",
            " * Running on http://127.0.0.1:5000\n",
            "INFO:werkzeug:\u001b[33mPress CTRL+C to quit\u001b[0m\n",
            "INFO:werkzeug: * Restarting with stat\n"
          ]
        }
      ]
    },
    {
      "cell_type": "markdown",
      "source": [
        "6. What are HTTP methods used in RESTful APIs?\n",
        "- Common methods: GET, POST, PUT, DELETE, PATCH.\n",
        "\n",
        "7. What is the purpose of the @app.route() decorator in Flask?\n",
        "- It maps a URL route to a Python function.\n",
        "\n",
        "8. What is the difference between GET and POST HTTP methods?\n",
        "- GET: Retrieves data; parameters in URL.\n",
        "- POST: Sends data to the server; parameters in body.\n",
        "\n",
        "9. How do you handle errors in Flask APIs?\n",
        "- Using @app.errorhandler decorator:"
      ],
      "metadata": {
        "id": "8ZuKVU2pmu_q"
      }
    },
    {
      "cell_type": "code",
      "source": [
        "@app.errorhandler(404)\n",
        "def not_found(e):\n",
        "    return {\"error\": \"Not Found\"}, 404"
      ],
      "metadata": {
        "id": "Gy-PFJdonD9i"
      },
      "execution_count": 2,
      "outputs": []
    },
    {
      "cell_type": "markdown",
      "source": [
        "10. How do you connect Flask to a SQL database?\n",
        "- Using Flask-SQLAlchemy:"
      ],
      "metadata": {
        "id": "YQBwsCC1nI9q"
      }
    },
    {
      "cell_type": "code",
      "source": [
        "from flask_sqlalchemy import SQLAlchemy\n",
        "app.config['SQLALCHEMY_DATABASE_URI'] = 'sqlite:///data.db'\n",
        "db = SQLAlchemy(app)"
      ],
      "metadata": {
        "id": "NPHkI-Q2oRnR"
      },
      "execution_count": null,
      "outputs": []
    },
    {
      "cell_type": "markdown",
      "source": [
        "11. What is the role of Flask-SQLAlchemy?\n",
        "- It’s an ORM that helps interact with databases using Python classes.\n",
        "\n",
        "12. What are Flask blueprints, and how are they useful?\n",
        "- Blueprints allow splitting a Flask app into modular components, improving organization and reusability.\n",
        "\n",
        "13. What is the purpose of Flask's request object?\n",
        "- request provides access to incoming request data like form inputs, JSON, and headers.\n",
        "\n",
        "14. How do you create a RESTful API endpoint using Flask?"
      ],
      "metadata": {
        "id": "sKS2YyUuoTVR"
      }
    },
    {
      "cell_type": "code",
      "source": [
        "@app.route('/items', methods=['GET'])\n",
        "def get_items():\n",
        "    return jsonify(items)"
      ],
      "metadata": {
        "id": "75Go-sCJoeGp"
      },
      "execution_count": 4,
      "outputs": []
    },
    {
      "cell_type": "markdown",
      "source": [
        "15. What is the purpose of Flask's jsonify() function?\n",
        "- It converts Python data into a proper JSON response.\n",
        "\n",
        "16. Explain Flask’s url_for() function\n",
        "- It generates a URL for a given endpoint:"
      ],
      "metadata": {
        "id": "L2wqVzEyoiF5"
      }
    },
    {
      "cell_type": "code",
      "source": [
        "url_for('home')"
      ],
      "metadata": {
        "id": "2lBX82j2otoK"
      },
      "execution_count": null,
      "outputs": []
    },
    {
      "cell_type": "markdown",
      "source": [
        "17. How does Flask handle static files (CSS, JavaScript, etc.)?\n",
        "- Place them in the static folder. Access via /static/<filename>.\n",
        "\n",
        "18. What is an API specification, and how does it help in building a Flask API?\n",
        "- It documents endpoints, parameters, responses, and helps in designing, testing, and integrating APIs.\n",
        "\n",
        "19. What are HTTP status codes, and why are they important in a Flask API?\n",
        "- They indicate the outcome of a request (e.g., 200 OK, 404 Not Found, 500 Server Error).\n",
        "\n",
        "20. How do you handle POST requests in Flask?"
      ],
      "metadata": {
        "id": "yWY-gM-Eoumx"
      }
    },
    {
      "cell_type": "code",
      "source": [
        "@app.route('/submit', methods=['POST'])\n",
        "def submit():\n",
        "    data = request.json\n",
        "    return jsonify(data)"
      ],
      "metadata": {
        "id": "3MqkIn0fo9sJ"
      },
      "execution_count": 6,
      "outputs": []
    },
    {
      "cell_type": "markdown",
      "source": [
        "21. How would you secure a Flask API?\n",
        "- Use HTTPS\n",
        "- Authenticate via tokens (e.g., JWT)\n",
        "- Validate input\n",
        "- Rate limiting\n",
        "\n",
        "22. What is the significance of the Flask-RESTful extension?\n",
        "- It simplifies building REST APIs with Flask by organizing endpoints as Python classes.\n",
        "\n",
        "23. What is the role of Flask’s session object?\n",
        "- Stores user-specific data across requests using cookies.\n",
        "\n"
      ],
      "metadata": {
        "id": "YIxnea3gpDqa"
      }
    },
    {
      "cell_type": "markdown",
      "source": [
        "# Flask Application Questions"
      ],
      "metadata": {
        "id": "LMgUHywXpd3h"
      }
    },
    {
      "cell_type": "markdown",
      "source": [
        "1. How do you create a basic Flask application?\n",
        "- See Q5 above.\n",
        "\n",
        "2. How do you serve static files like images or CSS in Flask?\n",
        "- Store in static/, access via url_for('static', filename='style.css').\n",
        "\n",
        "3. How do you define different routes with different HTTP methods in Flask?"
      ],
      "metadata": {
        "id": "pU1RY7SLphm4"
      }
    },
    {
      "cell_type": "code",
      "source": [
        "@app.route('/data', methods=['GET', 'POST'])"
      ],
      "metadata": {
        "colab": {
          "base_uri": "https://localhost:8080/",
          "height": 106
        },
        "id": "NxmB9T66qC95",
        "outputId": "ea28a4eb-3da0-4c17-d82e-c8b91e9f03fa"
      },
      "execution_count": 12,
      "outputs": [
        {
          "output_type": "error",
          "ename": "SyntaxError",
          "evalue": "incomplete input (ipython-input-12-1792587153.py, line 1)",
          "traceback": [
            "\u001b[0;36m  File \u001b[0;32m\"/tmp/ipython-input-12-1792587153.py\"\u001b[0;36m, line \u001b[0;32m1\u001b[0m\n\u001b[0;31m    @app.route('/data', methods=['GET', 'POST'])\u001b[0m\n\u001b[0m                                                ^\u001b[0m\n\u001b[0;31mSyntaxError\u001b[0m\u001b[0;31m:\u001b[0m incomplete input\n"
          ]
        }
      ]
    },
    {
      "cell_type": "markdown",
      "source": [
        "4. How do you render HTML templates in Flask?\n",
        "- Place in templates/ and use:"
      ],
      "metadata": {
        "id": "zH0i5elrqQN4"
      }
    },
    {
      "cell_type": "code",
      "source": [
        "return render_template('index.html')"
      ],
      "metadata": {
        "colab": {
          "base_uri": "https://localhost:8080/",
          "height": 106
        },
        "id": "aFFVKuwLqVV4",
        "outputId": "85e13739-d8a8-41df-ac33-be53cb02da06"
      },
      "execution_count": 14,
      "outputs": [
        {
          "output_type": "error",
          "ename": "SyntaxError",
          "evalue": "'return' outside function (ipython-input-14-375280448.py, line 1)",
          "traceback": [
            "\u001b[0;36m  File \u001b[0;32m\"/tmp/ipython-input-14-375280448.py\"\u001b[0;36m, line \u001b[0;32m1\u001b[0m\n\u001b[0;31m    return render_template('index.html')\u001b[0m\n\u001b[0m    ^\u001b[0m\n\u001b[0;31mSyntaxError\u001b[0m\u001b[0;31m:\u001b[0m 'return' outside function\n"
          ]
        }
      ]
    },
    {
      "cell_type": "markdown",
      "source": [
        "5. How can you generate URLs for routes in Flask using url_for?"
      ],
      "metadata": {
        "id": "64hKu6GhqaTo"
      }
    },
    {
      "cell_type": "code",
      "source": [
        "url_for('function_name')"
      ],
      "metadata": {
        "id": "k0c_aEVMqh4B"
      },
      "execution_count": null,
      "outputs": []
    },
    {
      "cell_type": "markdown",
      "source": [
        "6. How do you handle forms in Flask?\n",
        "- Access form data via:"
      ],
      "metadata": {
        "id": "6GWq0G9Mql3Q"
      }
    },
    {
      "cell_type": "code",
      "source": [
        "request.form['input_name']"
      ],
      "metadata": {
        "id": "h2kJRRGPqtUQ"
      },
      "execution_count": null,
      "outputs": []
    },
    {
      "cell_type": "markdown",
      "source": [
        "7. How can you validate form data in Flask?\n",
        "- Use conditionals or Flask-WTF:"
      ],
      "metadata": {
        "id": "fPkLMkwqqvgC"
      }
    },
    {
      "cell_type": "code",
      "source": [
        "if not form.validate_on_submit():\n",
        "    return \"Invalid\""
      ],
      "metadata": {
        "id": "mjhvLNhcrA9w"
      },
      "execution_count": null,
      "outputs": []
    },
    {
      "cell_type": "markdown",
      "source": [
        "8. How do you manage sessions in Flask?"
      ],
      "metadata": {
        "id": "Aep2wcJErCrR"
      }
    },
    {
      "cell_type": "code",
      "source": [
        "session['user'] = 'Alice'"
      ],
      "metadata": {
        "id": "DZXlJ47yrFig"
      },
      "execution_count": null,
      "outputs": []
    },
    {
      "cell_type": "markdown",
      "source": [
        "9. How do you redirect to a different route in Flask?"
      ],
      "metadata": {
        "id": "rUVESMsHrHa5"
      }
    },
    {
      "cell_type": "code",
      "source": [
        "return redirect(url_for('home'))"
      ],
      "metadata": {
        "id": "In6S4XMurKea"
      },
      "execution_count": null,
      "outputs": []
    },
    {
      "cell_type": "markdown",
      "source": [
        "10. How do you handle errors in Flask (e.g., 404)?\n",
        "See Q9 above.\n",
        "\n",
        "11. How do you structure a Flask app using Blueprints?\n",
        "- Create blueprints in separate files and register them:"
      ],
      "metadata": {
        "id": "lM7XeqJerNOI"
      }
    },
    {
      "cell_type": "code",
      "source": [
        "from flask import Blueprint\n",
        "bp = Blueprint('main', __name__)\n",
        "app.register_blueprint(bp)"
      ],
      "metadata": {
        "id": "P0-e2b3erR94"
      },
      "execution_count": 17,
      "outputs": []
    },
    {
      "cell_type": "markdown",
      "source": [
        "12. How do you define a custom Jinja filter in Flask?"
      ],
      "metadata": {
        "id": "QKUajnNYrUqw"
      }
    },
    {
      "cell_type": "code",
      "source": [
        "@app.template_filter('reverse')\n",
        "def reverse_filter(s):\n",
        "    return s[::-1]"
      ],
      "metadata": {
        "id": "FNQ_skDIrtII"
      },
      "execution_count": 18,
      "outputs": []
    },
    {
      "cell_type": "markdown",
      "source": [
        "13. How can you redirect with query parameters in Flask?"
      ],
      "metadata": {
        "id": "CJcgc5N-ru2J"
      }
    },
    {
      "cell_type": "code",
      "source": [
        "return redirect(url_for('home', user='john'))"
      ],
      "metadata": {
        "id": "7foiougUr2pI"
      },
      "execution_count": null,
      "outputs": []
    },
    {
      "cell_type": "markdown",
      "source": [
        "14. How do you return JSON responses in Flask?"
      ],
      "metadata": {
        "id": "ZFG-iRPor3Zh"
      }
    },
    {
      "cell_type": "code",
      "source": [
        "return jsonify({\"message\": \"Success\"})"
      ],
      "metadata": {
        "id": "UieBcc6Kr7L4"
      },
      "execution_count": null,
      "outputs": []
    },
    {
      "cell_type": "markdown",
      "source": [
        "15. How do you capture URL parameters in Flask?"
      ],
      "metadata": {
        "id": "HyT9k9DEr94A"
      }
    },
    {
      "cell_type": "code",
      "source": [
        "@app.route('/user/<username>')\n",
        "def profile(username):\n",
        "    return f'Hello {username}'"
      ],
      "metadata": {
        "id": "03GqQUB-ue4Y"
      },
      "execution_count": 20,
      "outputs": []
    }
  ]
}